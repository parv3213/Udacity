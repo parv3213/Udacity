{
 "cells": [
  {
   "cell_type": "code",
   "execution_count": 41,
   "metadata": {},
   "outputs": [],
   "source": [
    "# Define a function check_sudoku() here:\n",
    "\n",
    "def check_sudoku(l):\n",
    "    n_rows = len(l)\n",
    "    j = 0\n",
    "    while(j < n_rows):\n",
    "        for i in range(1, n_rows+1):\n",
    "            if i not in l[j]:\n",
    "                return False\n",
    "        j+=1\n",
    "    j = 0\n",
    "    while(j < n_rows):\n",
    "        for i in range(1, n_rows+1):\n",
    "            match = False\n",
    "            for m in range(0, n_rows):\n",
    "                if i == l[m][j]:\n",
    "                    match = True\n",
    "                    continue\n",
    "            if match == False:\n",
    "                return False\n",
    "                \n",
    "        j+=1\n",
    "    return True"
   ]
  },
  {
   "cell_type": "code",
   "execution_count": 42,
   "metadata": {
    "scrolled": true
   },
   "outputs": [
    {
     "name": "stdout",
     "output_type": "stream",
     "text": [
      "False\n",
      "True\n",
      "False\n",
      "False\n",
      "False\n",
      "False\n"
     ]
    }
   ],
   "source": [
    "correct = [[1,2,3],\n",
    "           [2,3,1],\n",
    "           [3,1,2]]\n",
    "\n",
    "incorrect = [[1,2,3,4],\n",
    "             [2,3,1,3],\n",
    "             [3,1,2,3],\n",
    "             [4,4,4,4]]\n",
    "\n",
    "incorrect2 = [[1,2,3,4],\n",
    "             [2,3,1,4],\n",
    "             [4,1,2,3],\n",
    "             [3,4,1,2]]\n",
    "\n",
    "incorrect3 = [[1,2,3,4,5],\n",
    "              [2,3,1,5,6],\n",
    "              [4,5,2,1,3],\n",
    "              [3,4,5,2,1],\n",
    "              [5,6,4,3,2]]\n",
    "\n",
    "incorrect4 = [['a','b','c'],\n",
    "              ['b','c','a'],\n",
    "              ['c','a','b']]\n",
    "\n",
    "incorrect5 = [ [1, 1.5],\n",
    "               [1.5, 1]]\n",
    "               \n",
    "print(check_sudoku(incorrect))\n",
    "#>>> False\n",
    "\n",
    "print(check_sudoku(correct))\n",
    "#>>> True\n",
    "\n",
    "print(check_sudoku(incorrect2))\n",
    "#>>> False\n",
    "\n",
    "print(check_sudoku(incorrect3))\n",
    "#>>> False\n",
    "\n",
    "print(check_sudoku(incorrect4))\n",
    "#>>> False\n",
    "\n",
    "print(check_sudoku(incorrect5))\n",
    "#>>> False"
   ]
  }
 ],
 "metadata": {
  "kernelspec": {
   "display_name": "Python 3",
   "language": "python",
   "name": "python3"
  },
  "language_info": {
   "codemirror_mode": {
    "name": "ipython",
    "version": 3
   },
   "file_extension": ".py",
   "mimetype": "text/x-python",
   "name": "python",
   "nbconvert_exporter": "python",
   "pygments_lexer": "ipython3",
   "version": "3.9.1"
  }
 },
 "nbformat": 4,
 "nbformat_minor": 4
}
